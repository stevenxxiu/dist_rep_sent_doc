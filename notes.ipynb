{
 "cells": [
  {
   "cell_type": "code",
   "execution_count": 1,
   "metadata": {
    "collapsed": true,
    "deletable": true,
    "editable": true
   },
   "outputs": [],
   "source": [
    "%matplotlib inline"
   ]
  },
  {
   "cell_type": "code",
   "execution_count": 2,
   "metadata": {
    "collapsed": true,
    "deletable": true,
    "editable": true
   },
   "outputs": [],
   "source": [
    "import glob\n",
    "import json\n",
    "import re\n",
    "import matplotlib\n",
    "import matplotlib.pyplot as plt\n",
    "import numpy as np\n",
    "import pandas as pd"
   ]
  },
  {
   "cell_type": "code",
   "execution_count": 3,
   "metadata": {
    "collapsed": false,
    "deletable": true,
    "editable": true
   },
   "outputs": [],
   "source": [
    "def load_data(wildname):\n",
    "    results = []\n",
    "    for name in glob.glob(wildname):\n",
    "        with open(name) as sr:\n",
    "            lines = sr.read().split('\\n')\n",
    "            config = [line for line in lines if re.match(r'^\\D', line)]\n",
    "            result = min([\n",
    "                (float(re.search(r'error rate: ([\\d.]+)', line).group(1)), re.search(r'epoch (\\d+)', line).group(1))\n",
    "                for line in lines if 'error rate:' in line\n",
    "            ])\n",
    "            results.append({'config': config, 'epoch': result[1], 'result': result[0]})\n",
    "    return pd.DataFrame(results)"
   ]
  },
  {
   "cell_type": "code",
   "execution_count": 4,
   "metadata": {
    "collapsed": false,
    "deletable": true,
    "editable": true
   },
   "outputs": [
    {
     "data": {
      "text/plain": [
       "<matplotlib.collections.PathCollection at 0x8802630>"
      ]
     },
     "execution_count": 4,
     "metadata": {},
     "output_type": "execute_result"
    },
    {
     "data": {
      "image/png": "[encoded data removed]",
      "text/plain": [
       "<matplotlib.figure.Figure at 0x87b0240>"
      ]
     },
     "metadata": {},
     "output_type": "display_data"
    }
   ],
   "source": [
    "dbow = load_data('results/logreg_dbow_imdb_val/*.txt')\n",
    "plt.scatter(dbow['result'], np.zeros(len(dbow)))"
   ]
  },
  {
   "cell_type": "code",
   "execution_count": 5,
   "metadata": {
    "collapsed": false,
    "deletable": true,
    "editable": true,
    "scrolled": true
   },
   "outputs": [
    {
     "name": "stdout",
     "output_type": "stream",
     "text": [
      "imdb val dbow '{\"embedding_size\": 400, \"min_freq\": 0, \"sample\": 0.1, \"lr\": 0.001, \"batch_size\": 2048, \"epoch_size\": 12, \"save_path\": \"__cache__/tf/55d4bb2f-9809-40c2-9038-c1a26b8f2f51\"}'\n",
      "imdb val dbow '{\"embedding_size\": 400, \"min_freq\": 0, \"sample\": 0.1, \"lr\": 0.0001, \"batch_size\": 2048, \"epoch_size\": 18, \"save_path\": \"__cache__/tf/1958c896-47f4-4135-a772-d53d6898b14f\", \"train_path\": \"__cache__/tf/55d4bb2f-9809-40c2-9038-c1a26b8f2f51\"}'\n",
      "imdb val nn '{\"train_paths\": [\"__cache__/tf/55d4bb2f-9809-40c2-9038-c1a26b8f2f51\"], \"test_paths\": [\"__cache__/tf/1958c896-47f4-4135-a772-d53d6898b14f\"], \"layer_sizes\": [2], \"lr\": 0.01, \"batch_size\": 2048, \"epoch_size\": 100}\n",
      "epoch 22: 0.121522\n"
     ]
    }
   ],
   "source": [
    "i = dbow['result'].argmin()\n",
    "print('\\n'.join(dbow['config'][i]))\n",
    "print(f'epoch {dbow[\"epoch\"][i]}: {dbow[\"result\"][i]}')"
   ]
  },
  {
   "cell_type": "code",
   "execution_count": 6,
   "metadata": {
    "collapsed": false,
    "deletable": true,
    "editable": true
   },
   "outputs": [
    {
     "data": {
      "text/plain": [
       "<matplotlib.collections.PathCollection at 0x8c8c748>"
      ]
     },
     "execution_count": 6,
     "metadata": {},
     "output_type": "execute_result"
    },
    {
     "data": {
      "image/png": "[encoded data removed]",
      "text/plain": [
       "<matplotlib.figure.Figure at 0x8ae0710>"
      ]
     },
     "metadata": {},
     "output_type": "display_data"
    }
   ],
   "source": [
    "dbow_sg = load_data('results/logreg_dbow_sg_imdb_val/*.txt')\n",
    "plt.scatter(dbow_sg['result'], np.zeros(len(dbow_sg)))"
   ]
  },
  {
   "cell_type": "code",
   "execution_count": 7,
   "metadata": {
    "collapsed": false
   },
   "outputs": [
    {
     "name": "stdout",
     "output_type": "stream",
     "text": [
      "imdb val dbow '{\"sg\": 6, \"embedding_size\": 400, \"min_freq\": 2, \"sample\": 1, \"lr\": 0.0005, \"batch_size\": 2048, \"epoch_size\": 34, \"save_path\": \"__cache__/tf/e0215b29-7aa1-473e-97fd-7c3c42bd2a06\"}'\n",
      "imdb val dbow '{\"sg\": 6, \"embedding_size\": 400, \"min_freq\": 2, \"sample\": 1, \"lr\": 0.0001, \"batch_size\": 2048, \"epoch_size\": 29, \"save_path\": \"__cache__/tf/336320c2-23d5-4259-b0ad-d5a7038d1594\", \"train_path\": \"__cache__/tf/e0215b29-7aa1-473e-97fd-7c3c42bd2a06\"}'\n",
      "imdb val nn '{\"train_paths\": [\"__cache__/tf/e0215b29-7aa1-473e-97fd-7c3c42bd2a06\"], \"test_paths\": [\"__cache__/tf/336320c2-23d5-4259-b0ad-d5a7038d1594\"], \"layer_sizes\": [2], \"lr\": 0.01, \"batch_size\": 2048, \"epoch_size\": 100}'\n",
      "epoch 8: 0.115516\n"
     ]
    }
   ],
   "source": [
    "i = dbow_sg['result'].argmin()\n",
    "print('\\n'.join(dbow_sg['config'][i]))\n",
    "print(f'epoch {dbow_sg[\"epoch\"][i]}: {dbow_sg[\"result\"][i]}')"
   ]
  },
  {
   "cell_type": "code",
   "execution_count": 8,
   "metadata": {
    "collapsed": false,
    "deletable": true,
    "editable": true
   },
   "outputs": [
    {
     "data": {
      "text/plain": [
       "<matplotlib.collections.PathCollection at 0x8d50dd8>"
      ]
     },
     "execution_count": 8,
     "metadata": {},
     "output_type": "execute_result"
    },
    {
     "data": {
      "image/png": "[encoded data removed]",
      "text/plain": [
       "<matplotlib.figure.Figure at 0x8b134e0>"
      ]
     },
     "metadata": {},
     "output_type": "display_data"
    }
   ],
   "source": [
    "pvdm_mean = load_data('results/logreg_pvdm_mean_imdb_val/*.txt')\n",
    "plt.scatter(pvdm_mean['result'], np.zeros(len(pvdm_mean)))"
   ]
  },
  {
   "cell_type": "code",
   "execution_count": 9,
   "metadata": {
    "collapsed": false,
    "deletable": true,
    "editable": true
   },
   "outputs": [
    {
     "name": "stdout",
     "output_type": "stream",
     "text": [
      "imdb val pvdm '{\"mode\": \"mean\", \"window_size\": 8, \"embedding_size\": 150, \"min_freq\": 4, \"sample\": 0.001, \"lr\": 0.0025, \"batch_size\": 2048, \"epoch_size\": 26, \"save_path\": \"__cache__/tf/0840dff1-27ca-4433-a2cb-c7bdb484cb45\"}'\n",
      "imdb val pvdm '{\"mode\": \"mean\", \"window_size\": 8, \"embedding_size\": 150, \"min_freq\": 4, \"sample\": 0.001, \"lr\": 0.0001, \"batch_size\": 2048, \"epoch_size\": 49, \"save_path\": \"__cache__/tf/862c48a5-ed40-4b33-8af0-76458c3f4ba2\", \"train_path\": \"__cache__/tf/0840dff1-27ca-4433-a2cb-c7bdb484cb45\"}'\n",
      "imdb val nn '{\"train_paths\": [\"__cache__/tf/0840dff1-27ca-4433-a2cb-c7bdb484cb45\"], \"test_paths\": [\"__cache__/tf/862c48a5-ed40-4b33-8af0-76458c3f4ba2\"], \"layer_sizes\": [2], \"lr\": 0.01, \"batch_size\": 2048, \"epoch_size\": 100}\n",
      "epoch 83: 0.156757\n"
     ]
    }
   ],
   "source": [
    "i = pvdm_mean['result'].argmin()\n",
    "print('\\n'.join(pvdm_mean['config'][i]))\n",
    "print(f'epoch {pvdm_mean[\"epoch\"][i]}: {pvdm_mean[\"result\"][i]}')"
   ]
  },
  {
   "cell_type": "code",
   "execution_count": 10,
   "metadata": {
    "collapsed": false,
    "deletable": true,
    "editable": true
   },
   "outputs": [
    {
     "data": {
      "text/plain": [
       "<matplotlib.collections.PathCollection at 0x8f189b0>"
      ]
     },
     "execution_count": 10,
     "metadata": {},
     "output_type": "execute_result"
    },
    {
     "data": {
      "image/png": "[encoded data removed]",
      "text/plain": [
       "<matplotlib.figure.Figure at 0x8acacc0>"
      ]
     },
     "metadata": {},
     "output_type": "display_data"
    }
   ],
   "source": [
    "pvdm_concat = load_data('results/logreg_pvdm_concat_imdb_val/*.txt')\n",
    "plt.scatter(pvdm_concat['result'], np.zeros(len(pvdm_concat)))"
   ]
  },
  {
   "cell_type": "code",
   "execution_count": 11,
   "metadata": {
    "collapsed": false,
    "deletable": true,
    "editable": true
   },
   "outputs": [
    {
     "name": "stdout",
     "output_type": "stream",
     "text": [
      "imdb val pvdm '{\"mode\": \"concat\", \"window_size\": 7, \"embedding_size\": 50, \"min_freq\": 2, \"sample\": 0.001, \"lr\": 0.0005, \"batch_size\": 2048, \"epoch_size\": 46, \"save_path\": \"__cache__/tf/97e04b31-db31-46f7-ad9d-11e884207970\"}'\n",
      "imdb val pvdm '{\"mode\": \"concat\", \"window_size\": 7, \"embedding_size\": 50, \"min_freq\": 2, \"sample\": 0.001, \"lr\": 0.00025, \"batch_size\": 2048, \"epoch_size\": 42, \"save_path\": \"__cache__/tf/98f0a145-4d7a-4acd-902f-a7b72ced863e\", \"train_path\": \"__cache__/tf/97e04b31-db31-46f7-ad9d-11e884207970\"}'\n",
      "imdb val nn '{\"train_paths\": [\"__cache__/tf/97e04b31-db31-46f7-ad9d-11e884207970\"], \"test_paths\": [\"__cache__/tf/98f0a145-4d7a-4acd-902f-a7b72ced863e\"], \"layer_sizes\": [2], \"lr\": 0.01, \"batch_size\": 2048, \"epoch_size\": 100}\n",
      "epoch 87: 0.15976\n"
     ]
    }
   ],
   "source": [
    "i = pvdm_concat['result'].argmin()\n",
    "print('\\n'.join(pvdm_concat['config'][i]))\n",
    "print(f'epoch {pvdm_concat[\"epoch\"][i]}: {pvdm_concat[\"result\"][i]}')"
   ]
  },
  {
   "cell_type": "code",
   "execution_count": 12,
   "metadata": {
    "collapsed": false,
    "deletable": true,
    "editable": true
   },
   "outputs": [
    {
     "name": "stdout",
     "output_type": "stream",
     "text": [
      "imdb val nn '{\"train_paths\": [\"__cache__/tf/pvdm_concat_imdb_train_val\"], \"test_paths\": [\"__cache__/tf/pvdm_concat_imdb_val\"], \"layer_sizes\": [10, 2], \"lr\": 0.01, \"batch_size\": 2048, \"epoch_size\": 100}'\n",
      "epoch 31: 0.15996\n"
     ]
    }
   ],
   "source": [
    "nn = load_data('results/nn_pvdm_concat_imdb_val/*.txt')\n",
    "i = nn['result'].argmin()\n",
    "print('\\n'.join(nn['config'][i]))\n",
    "print(f'epoch {nn[\"epoch\"][i]}: {nn[\"result\"][i]}')"
   ]
  },
  {
   "cell_type": "code",
   "execution_count": 13,
   "metadata": {
    "collapsed": false,
    "deletable": true,
    "editable": true
   },
   "outputs": [
    {
     "name": "stdout",
     "output_type": "stream",
     "text": [
      "imdb val nn '{\"train_paths\": [\"__cache__/tf/pvdm_mean_imdb_train_val\"], \"test_paths\": [\"__cache__/tf/pvdm_mean_imdb_val\"], \"layer_sizes\": [6, 2], \"lr\": 0.01, \"batch_size\": 2048, \"epoch_size\": 100}'\n",
      "epoch 9: 0.156156\n"
     ]
    }
   ],
   "source": [
    "nn = load_data('results/nn_pvdm_mean_imdb_val/*.txt')\n",
    "i = nn['result'].argmin()\n",
    "print('\\n'.join(nn['config'][i]))\n",
    "print(f'epoch {nn[\"epoch\"][i]}: {nn[\"result\"][i]}')"
   ]
  },
  {
   "cell_type": "code",
   "execution_count": 14,
   "metadata": {
    "collapsed": false,
    "deletable": true,
    "editable": true
   },
   "outputs": [
    {
     "name": "stdout",
     "output_type": "stream",
     "text": [
      "imdb val nn '{\"train_paths\": [\"__cache__/tf/dbow_imdb_train_val\"], \"test_paths\": [\"__cache__/tf/dbow_imdb_val\"], \"layer_sizes\": [30, 2], \"lr\": 0.01, \"batch_size\": 2048, \"epoch_size\": 100}'\n",
      "epoch 6: 0.111111\n"
     ]
    }
   ],
   "source": [
    "nn = load_data('results/nn_dbow_imdb_val/*.txt')\n",
    "i = nn['result'].argmin()\n",
    "print('\\n'.join(nn['config'][i]))\n",
    "print(f'epoch {nn[\"epoch\"][i]}: {nn[\"result\"][i]}')"
   ]
  },
  {
   "cell_type": "code",
   "execution_count": null,
   "metadata": {
    "collapsed": true,
    "deletable": true,
    "editable": true
   },
   "outputs": [],
   "source": []
  }
 ],
 "metadata": {
  "kernelspec": {
   "display_name": "Python 3",
   "language": "python",
   "name": "python3"
  },
  "language_info": {
   "codemirror_mode": {
    "name": "ipython",
    "version": 3
   },
   "file_extension": ".py",
   "mimetype": "text/x-python",
   "name": "python",
   "nbconvert_exporter": "python",
   "pygments_lexer": "ipython3",
   "version": "3.6.0"
  }
 },
 "nbformat": 4,
 "nbformat_minor": 2
}
