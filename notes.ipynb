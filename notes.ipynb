{
 "cells": [
  {
   "cell_type": "code",
   "execution_count": 1,
   "metadata": {
    "collapsed": true,
    "deletable": true,
    "editable": true
   },
   "outputs": [],
   "source": [
    "%matplotlib inline"
   ]
  },
  {
   "cell_type": "code",
   "execution_count": 2,
   "metadata": {
    "collapsed": true,
    "deletable": true,
    "editable": true
   },
   "outputs": [],
   "source": [
    "import glob\n",
    "import json\n",
    "import re\n",
    "import matplotlib\n",
    "import matplotlib.pyplot as plt\n",
    "import numpy as np\n",
    "import pandas as pd"
   ]
  },
  {
   "cell_type": "code",
   "execution_count": 3,
   "metadata": {
    "collapsed": false,
    "deletable": true,
    "editable": true
   },
   "outputs": [],
   "source": [
    "def load_data(wildname):\n",
    "    results = []\n",
    "    for name in glob.glob(wildname):\n",
    "        with open(name) as sr:\n",
    "            lines = sr.read().split('\\n')\n",
    "            config = [line for line in lines if re.match(r'^\\D', line)]\n",
    "            result = min([\n",
    "                float(re.search(r'error rate: ([\\d.]+)', line).group(1))\n",
    "                for line in lines if 'error rate:' in line\n",
    "            ])\n",
    "            results.append({'config': config, 'result': result})\n",
    "    return pd.DataFrame(results)"
   ]
  },
  {
   "cell_type": "code",
   "execution_count": 4,
   "metadata": {
    "collapsed": false,
    "deletable": true,
    "editable": true
   },
   "outputs": [
    {
     "data": {
      "text/plain": [
       "<matplotlib.collections.PathCollection at 0x8802e10>"
      ]
     },
     "execution_count": 4,
     "metadata": {},
     "output_type": "execute_result"
    },
    {
     "data": {
      "image/png": "[encoded data removed]",
      "text/plain": [
       "<matplotlib.figure.Figure at 0x87a6278>"
      ]
     },
     "metadata": {},
     "output_type": "display_data"
    }
   ],
   "source": [
    "dbow = load_data('results/dbow_imdb_*.txt')\n",
    "plt.scatter(dbow['result'], np.zeros(len(dbow)))"
   ]
  },
  {
   "cell_type": "code",
   "execution_count": 5,
   "metadata": {
    "collapsed": false,
    "deletable": true,
    "editable": true
   },
   "outputs": [
    {
     "name": "stdout",
     "output_type": "stream",
     "text": [
      "imdb dbow {\"embedding_size\": 400, \"min_freq\": 0, \"sample\": 0.1, \"lr\": 0.001, \"batch_size\": 2048, \"epoch_size\": 12, \"save_path\": \"__cache__/tf/55d4bb2f-9809-40c2-9038-c1a26b8f2f51\"}\n",
      "imdb dbow {\"embedding_size\": 400, \"min_freq\": 0, \"sample\": 0.1, \"lr\": 0.0001, \"batch_size\": 2048, \"epoch_size\": 18, \"save_path\": \"__cache__/tf/1958c896-47f4-4135-a772-d53d6898b14f\", \"train_path\": \"__cache__/tf/55d4bb2f-9809-40c2-9038-c1a26b8f2f51\"}\n",
      "imdb nn {\"train_paths\": [\"__cache__/tf/55d4bb2f-9809-40c2-9038-c1a26b8f2f51\"], \"test_paths\": [\"__cache__/tf/1958c896-47f4-4135-a772-d53d6898b14f\"], \"layer_sizes\": [2], \"lr\": 0.01, \"batch_size\": 2048, \"epoch_size\": 100}\n",
      "0.121522\n"
     ]
    }
   ],
   "source": [
    "i = dbow['result'].argmin()\n",
    "print('\\n'.join(dbow['config'][i]))\n",
    "print(dbow['result'][i])"
   ]
  },
  {
   "cell_type": "code",
   "execution_count": 6,
   "metadata": {
    "collapsed": false,
    "deletable": true,
    "editable": true
   },
   "outputs": [
    {
     "data": {
      "text/plain": [
       "<matplotlib.collections.PathCollection at 0x8e09748>"
      ]
     },
     "execution_count": 6,
     "metadata": {},
     "output_type": "execute_result"
    },
    {
     "data": {
      "image/png": "[encoded data removed]",
      "text/plain": [
       "<matplotlib.figure.Figure at 0x4e416d8>"
      ]
     },
     "metadata": {},
     "output_type": "display_data"
    }
   ],
   "source": [
    "pvdm_mean = load_data('results/pvdm_mean_imdb_*.txt')\n",
    "plt.scatter(pvdm_mean['result'], np.zeros(len(pvdm_mean)))"
   ]
  },
  {
   "cell_type": "code",
   "execution_count": 7,
   "metadata": {
    "collapsed": false,
    "deletable": true,
    "editable": true
   },
   "outputs": [
    {
     "name": "stdout",
     "output_type": "stream",
     "text": [
      "imdb pvdm {\"mode\": \"mean\", \"window_size\": 8, \"embedding_size\": 150, \"min_freq\": 4, \"sample\": 0.001, \"lr\": 0.0025, \"batch_size\": 2048, \"epoch_size\": 26, \"save_path\": \"__cache__/tf/0840dff1-27ca-4433-a2cb-c7bdb484cb45\"}\n",
      "imdb pvdm {\"mode\": \"mean\", \"window_size\": 8, \"embedding_size\": 150, \"min_freq\": 4, \"sample\": 0.001, \"lr\": 0.0001, \"batch_size\": 2048, \"epoch_size\": 49, \"save_path\": \"__cache__/tf/862c48a5-ed40-4b33-8af0-76458c3f4ba2\", \"train_path\": \"__cache__/tf/0840dff1-27ca-4433-a2cb-c7bdb484cb45\"}\n",
      "imdb nn {\"train_paths\": [\"__cache__/tf/0840dff1-27ca-4433-a2cb-c7bdb484cb45\"], \"test_paths\": [\"__cache__/tf/862c48a5-ed40-4b33-8af0-76458c3f4ba2\"], \"layer_sizes\": [2], \"lr\": 0.01, \"batch_size\": 2048, \"epoch_size\": 100}\n",
      "0.156757\n"
     ]
    }
   ],
   "source": [
    "i = pvdm_mean['result'].argmin()\n",
    "print('\\n'.join(pvdm_mean['config'][i]))\n",
    "print(pvdm_mean['result'][i])"
   ]
  },
  {
   "cell_type": "code",
   "execution_count": 8,
   "metadata": {
    "collapsed": false,
    "deletable": true,
    "editable": true
   },
   "outputs": [
    {
     "data": {
      "text/plain": [
       "<matplotlib.collections.PathCollection at 0x8eb2cc0>"
      ]
     },
     "execution_count": 8,
     "metadata": {},
     "output_type": "execute_result"
    },
    {
     "data": {
      "image/png": "[encoded data removed]",
      "text/plain": [
       "<matplotlib.figure.Figure at 0x8e252b0>"
      ]
     },
     "metadata": {},
     "output_type": "display_data"
    }
   ],
   "source": [
    "pvdm_concat = load_data('results/pvdm_concat_imdb_*.txt')\n",
    "plt.scatter(pvdm_concat['result'], np.zeros(len(pvdm_concat)))"
   ]
  },
  {
   "cell_type": "code",
   "execution_count": 9,
   "metadata": {
    "collapsed": false
   },
   "outputs": [
    {
     "name": "stdout",
     "output_type": "stream",
     "text": [
      "imdb pvdm {\"mode\": \"concat\", \"window_size\": 7, \"embedding_size\": 50, \"min_freq\": 2, \"sample\": 0.001, \"lr\": 0.0005, \"batch_size\": 2048, \"epoch_size\": 46, \"save_path\": \"__cache__/tf/97e04b31-db31-46f7-ad9d-11e884207970\"}\n",
      "imdb pvdm {\"mode\": \"concat\", \"window_size\": 7, \"embedding_size\": 50, \"min_freq\": 2, \"sample\": 0.001, \"lr\": 0.00025, \"batch_size\": 2048, \"epoch_size\": 42, \"save_path\": \"__cache__/tf/98f0a145-4d7a-4acd-902f-a7b72ced863e\", \"train_path\": \"__cache__/tf/97e04b31-db31-46f7-ad9d-11e884207970\"}\n",
      "imdb nn {\"train_paths\": [\"__cache__/tf/97e04b31-db31-46f7-ad9d-11e884207970\"], \"test_paths\": [\"__cache__/tf/98f0a145-4d7a-4acd-902f-a7b72ced863e\"], \"layer_sizes\": [2], \"lr\": 0.01, \"batch_size\": 2048, \"epoch_size\": 100}\n",
      "0.15976\n"
     ]
    }
   ],
   "source": [
    "i = pvdm_concat['result'].argmin()\n",
    "print('\\n'.join(pvdm_concat['config'][i]))\n",
    "print(pvdm_concat['result'][i])"
   ]
  }
 ],
 "metadata": {
  "kernelspec": {
   "display_name": "Python 3",
   "language": "python",
   "name": "python3"
  },
  "language_info": {
   "codemirror_mode": {
    "name": "ipython",
    "version": 3
   },
   "file_extension": ".py",
   "mimetype": "text/x-python",
   "name": "python",
   "nbconvert_exporter": "python",
   "pygments_lexer": "ipython3",
   "version": "3.6.0"
  }
 },
 "nbformat": 4,
 "nbformat_minor": 2
}
