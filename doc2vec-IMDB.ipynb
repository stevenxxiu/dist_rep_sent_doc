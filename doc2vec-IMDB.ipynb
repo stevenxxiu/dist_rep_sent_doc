{
 "cells": [
  {
   "cell_type": "markdown",
   "metadata": {
    "deletable": true,
    "editable": true
   },
   "source": [
    "# gensim doc2vec & IMDB sentiment dataset"
   ]
  },
  {
   "cell_type": "markdown",
   "metadata": {
    "deletable": true,
    "editable": true
   },
   "source": [
    "TODO: section on introduction & motivation\n",
    "\n",
    "TODO: prerequisites + dependencies (statsmodels, patsy, ?)\n",
    "\n",
    "### Requirements\n",
    "Following are the dependencies for this tutorial:\n",
    "    - testfixtures\n",
    "    - statsmodels\n",
    "    "
   ]
  },
  {
   "cell_type": "markdown",
   "metadata": {
    "deletable": true,
    "editable": true
   },
   "source": [
    "## Load corpus"
   ]
  },
  {
   "cell_type": "markdown",
   "metadata": {
    "deletable": true,
    "editable": true
   },
   "source": [
    "Fetch and prep exactly as in Mikolov's go.sh shell script. (Note this cell tests for existence of required files, so steps won't repeat once the final summary file (`aclImdb/alldata-id.txt`) is available alongside this notebook.)"
   ]
  },
  {
   "cell_type": "code",
   "execution_count": 1,
   "metadata": {
    "collapsed": false,
    "deletable": true,
    "editable": true
   },
   "outputs": [],
   "source": [
    "import os\n",
    "\n",
    "files = ['train_pos', 'train_neg', 'test_pos', 'test_neg', 'train_unsup']\n",
    "\n",
    "with open('../data/imdb_sentiment/alldata-id.txt', 'w', encoding='utf-8') as out_sr:\n",
    "    i = 0\n",
    "    for file in files:\n",
    "        with open(os.path.join('../data/imdb_sentiment', f'{file}.txt'), 'r', encoding='utf-8') as in_sr:\n",
    "            for line in in_sr:\n",
    "                out_sr.write(f'_*{i} {line}')\n",
    "                i += 1"
   ]
  },
  {
   "cell_type": "markdown",
   "metadata": {
    "deletable": true,
    "editable": true
   },
   "source": [
    "The data is small enough to be read into memory. "
   ]
  },
  {
   "cell_type": "code",
   "execution_count": 2,
   "metadata": {
    "collapsed": false,
    "deletable": true,
    "editable": true
   },
   "outputs": [
    {
     "name": "stderr",
     "output_type": "stream",
     "text": [
      "c:\\program files\\python36\\lib\\site-packages\\gensim\\utils.py:855: UserWarning: detected Windows; aliasing chunkize to chunkize_serial\n",
      "  warnings.warn(\"detected Windows; aliasing chunkize to chunkize_serial\")\n"
     ]
    },
    {
     "name": "stdout",
     "output_type": "stream",
     "text": [
      "100000 docs: 25000 train-sentiment, 25000 test-sentiment\n"
     ]
    }
   ],
   "source": [
    "import gensim\n",
    "from gensim.models.doc2vec import TaggedDocument\n",
    "from collections import namedtuple\n",
    "\n",
    "SentimentDocument = namedtuple('SentimentDocument', 'words tags split sentiment')\n",
    "\n",
    "alldocs = []  # will hold all docs in original order\n",
    "with open('../data/imdb_sentiment/alldata-id.txt', encoding='utf-8') as alldata:\n",
    "    for line_no, line in enumerate(alldata):\n",
    "        tokens = line.split()\n",
    "        words = tokens[1:]\n",
    "        tags = [line_no] # `tags = [tokens[0]]` would also work at extra memory cost\n",
    "        split = ['train','test','extra','extra'][line_no//25000]  # 25k train, 25k test, 25k extra\n",
    "        sentiment = [1.0, 0.0, 1.0, 0.0, None, None, None, None][line_no//12500] # [12.5K pos, 12.5K neg]*2 then unknown\n",
    "        alldocs.append(SentimentDocument(words, tags, split, sentiment))\n",
    "\n",
    "train_docs = [doc for doc in alldocs if doc.split == 'train']\n",
    "test_docs = [doc for doc in alldocs if doc.split == 'test']\n",
    "doc_list = alldocs[:]  # for reshuffling per pass\n",
    "\n",
    "print('%d docs: %d train-sentiment, %d test-sentiment' % (len(doc_list), len(train_docs), len(test_docs)))"
   ]
  },
  {
   "cell_type": "markdown",
   "metadata": {
    "deletable": true,
    "editable": true
   },
   "source": [
    "## Set-up Doc2Vec Training & Evaluation Models"
   ]
  },
  {
   "cell_type": "markdown",
   "metadata": {
    "deletable": true,
    "editable": true
   },
   "source": [
    "Approximating experiment of Le & Mikolov [\"Distributed Representations of Sentences and Documents\"](http://cs.stanford.edu/~quocle/paragraph_vector.pdf), also with guidance from Mikolov's [example go.sh](https://groups.google.com/d/msg/word2vec-toolkit/Q49FIrNOQRo/J6KG8mUj45sJ):\n",
    "\n",
    "`./word2vec -train ../alldata-id.txt -output vectors.txt -cbow 0 -size 100 -window 10 -negative 5 -hs 0 -sample 1e-4 -threads 40 -binary 0 -iter 20 -min-count 1 -sentence-vectors 1`\n",
    "\n",
    "Parameter choices below vary:\n",
    "\n",
    "* 100-dimensional vectors, as the 400d vectors of the paper don't seem to offer much benefit on this task\n",
    "* similarly, frequent word subsampling seems to decrease sentiment-prediction accuracy, so it's left out\n",
    "* `cbow=0` means skip-gram which is equivalent to the paper's 'PV-DBOW' mode, matched in gensim with `dm=0`\n",
    "* added to that DBOW model are two DM models, one which averages context vectors (`dm_mean`) and one which concatenates them (`dm_concat`, resulting in a much larger, slower, more data-hungry model)\n",
    "* a `min_count=2` saves quite a bit of model memory, discarding only words that appear in a single doc (and are thus no more expressive than the unique-to-each doc vectors themselves)"
   ]
  },
  {
   "cell_type": "code",
   "execution_count": 3,
   "metadata": {
    "collapsed": false,
    "deletable": true,
    "editable": true
   },
   "outputs": [
    {
     "name": "stdout",
     "output_type": "stream",
     "text": [
      "Doc2Vec(dm/c,d100,hs,w5,s0.001,t8)\n",
      "Doc2Vec(dbow,d100,hs,s0.001,t8)\n",
      "Doc2Vec(dm/m,d100,hs,w10,s0.001,t8)\n"
     ]
    }
   ],
   "source": [
    "from gensim.models import Doc2Vec\n",
    "import gensim.models.doc2vec\n",
    "from collections import OrderedDict\n",
    "import multiprocessing\n",
    "\n",
    "cores = multiprocessing.cpu_count()\n",
    "assert gensim.models.doc2vec.FAST_VERSION > -1, \"this will be painfully slow otherwise\"\n",
    "\n",
    "simple_models = [\n",
    "    # PV-DM w/concatenation - window=5 (both sides) approximates paper's 10-word total window size\n",
    "    Doc2Vec(dm=1, dm_concat=1, size=100, window=5, negative=0, hs=1, min_count=0, workers=cores, iter=1),\n",
    "    # PV-DBOW \n",
    "    Doc2Vec(dm=0, size=100, negative=0, hs=1, min_count=0, workers=cores, iter=1),\n",
    "    # PV-DM w/average\n",
    "    Doc2Vec(dm=1, dm_mean=1, size=100, window=10, negative=0, hs=1, min_count=0, workers=cores, iter=1),\n",
    "]\n",
    "\n",
    "for model in simple_models:\n",
    "    model.build_vocab(alldocs)\n",
    "    print(model)\n",
    "\n",
    "models_by_name = OrderedDict((str(model), model) for model in simple_models)"
   ]
  },
  {
   "cell_type": "markdown",
   "metadata": {
    "deletable": true,
    "editable": true
   },
   "source": [
    "Following the paper, we also evaluate models in pairs. These wrappers return the concatenation of the vectors from each model. (Only the singular models are trained.)"
   ]
  },
  {
   "cell_type": "code",
   "execution_count": 4,
   "metadata": {
    "collapsed": false,
    "deletable": true,
    "editable": true
   },
   "outputs": [],
   "source": [
    "from gensim.test.test_doc2vec import ConcatenatedDoc2Vec\n",
    "models_by_name['dbow+dmm'] = ConcatenatedDoc2Vec([simple_models[1], simple_models[2]])\n",
    "models_by_name['dbow+dmc'] = ConcatenatedDoc2Vec([simple_models[1], simple_models[0]])"
   ]
  },
  {
   "cell_type": "markdown",
   "metadata": {
    "deletable": true,
    "editable": true
   },
   "source": [
    "## Predictive Evaluation Methods"
   ]
  },
  {
   "cell_type": "markdown",
   "metadata": {
    "deletable": true,
    "editable": true
   },
   "source": [
    "Helper methods for evaluating error rate."
   ]
  },
  {
   "cell_type": "code",
   "execution_count": 5,
   "metadata": {
    "collapsed": true,
    "deletable": true,
    "editable": true
   },
   "outputs": [],
   "source": [
    "import numpy as np\n",
    "import statsmodels.api as sm\n",
    "from random import sample\n",
    "\n",
    "# for timing\n",
    "from contextlib import contextmanager\n",
    "from timeit import default_timer\n",
    "import time \n",
    "\n",
    "@contextmanager\n",
    "def elapsed_timer():\n",
    "    start = default_timer()\n",
    "    elapser = lambda: default_timer() - start\n",
    "    yield lambda: elapser()\n",
    "    end = default_timer()\n",
    "    elapser = lambda: end-start\n",
    "    \n",
    "def logistic_predictor_from_data(train_targets, train_regressors):\n",
    "    logit = sm.Logit(train_targets, train_regressors)\n",
    "    predictor = logit.fit(disp=0)\n",
    "    #print(predictor.summary())\n",
    "    return predictor\n",
    "\n",
    "def error_rate_for_model(test_model, train_set, test_set, infer=False, infer_steps=3, infer_alpha=0.1, infer_subsample=0.1):\n",
    "    \"\"\"Report error rate on test_doc sentiments, using supplied model and train_docs\"\"\"\n",
    "\n",
    "    train_targets, train_regressors = zip(*[(doc.sentiment, test_model.docvecs[doc.tags[0]]) for doc in train_set])\n",
    "    train_regressors = sm.add_constant(train_regressors)\n",
    "    predictor = logistic_predictor_from_data(train_targets, train_regressors)\n",
    "\n",
    "    test_data = test_set\n",
    "    if infer:\n",
    "        if infer_subsample < 1.0:\n",
    "            test_data = sample(test_data, int(infer_subsample * len(test_data)))\n",
    "        test_regressors = [test_model.infer_vector(doc.words, steps=infer_steps, alpha=infer_alpha) for doc in test_data]\n",
    "    else:\n",
    "        test_regressors = [test_model.docvecs[doc.tags[0]] for doc in test_docs]\n",
    "    test_regressors = sm.add_constant(test_regressors)\n",
    "    \n",
    "    # predict & evaluate\n",
    "    test_predictions = predictor.predict(test_regressors)\n",
    "    corrects = sum(np.rint(test_predictions) == [doc.sentiment for doc in test_data])\n",
    "    errors = len(test_predictions) - corrects\n",
    "    error_rate = float(errors) / len(test_predictions)\n",
    "    return (error_rate, errors, len(test_predictions), predictor)"
   ]
  },
  {
   "cell_type": "markdown",
   "metadata": {
    "deletable": true,
    "editable": true
   },
   "source": [
    "## Bulk Training"
   ]
  },
  {
   "cell_type": "markdown",
   "metadata": {
    "deletable": true,
    "editable": true
   },
   "source": [
    "Using explicit multiple-pass, alpha-reduction approach as sketched in [gensim doc2vec blog post](http://radimrehurek.com/2014/12/doc2vec-tutorial/) – with added shuffling of corpus on each pass.\n",
    "\n",
    "Note that vector training is occurring on *all* documents of the dataset, which includes all TRAIN/TEST/DEV docs.\n",
    "\n",
    "Evaluation of each model's sentiment-predictive power is repeated after each pass, as an error rate (lower is better), to see the rates-of-relative-improvement. The base numbers reuse the TRAIN and TEST vectors stored in the models for the logistic regression, while the _inferred_ results use newly-inferred TEST vectors. \n",
    "\n",
    "(On a 4-core 2.6Ghz Intel Core i7, these 20 passes training and evaluating 3 main models takes about an hour.)"
   ]
  },
  {
   "cell_type": "code",
   "execution_count": 6,
   "metadata": {
    "collapsed": true,
    "deletable": true,
    "editable": true
   },
   "outputs": [],
   "source": [
    "from collections import defaultdict\n",
    "best_error = defaultdict(lambda :1.0)  # to selectively-print only best errors achieved"
   ]
  },
  {
   "cell_type": "code",
   "execution_count": 7,
   "metadata": {
    "collapsed": false,
    "deletable": true,
    "editable": true
   },
   "outputs": [
    {
     "name": "stdout",
     "output_type": "stream",
     "text": [
      "START 2017-04-01 22:34:14.683235\n",
      "*0.306720 : 1 passes : Doc2Vec(dm/c,d100,hs,w5,s0.001,t8) 43.5s 0.5s\n",
      "*0.271200 : 1 passes : Doc2Vec(dm/c,d100,hs,w5,s0.001,t8)_inferred 43.5s 8.4s\n",
      "*0.199520 : 1 passes : Doc2Vec(dbow,d100,hs,s0.001,t8) 16.1s 0.5s\n",
      "*0.165600 : 1 passes : Doc2Vec(dbow,d100,hs,s0.001,t8)_inferred 16.1s 2.5s\n",
      "*0.252720 : 1 passes : Doc2Vec(dm/m,d100,hs,w10,s0.001,t8) 21.3s 0.5s\n",
      "*0.202800 : 1 passes : Doc2Vec(dm/m,d100,hs,w10,s0.001,t8)_inferred 21.3s 3.5s\n",
      "*0.192080 : 1 passes : dbow+dmm 0.0s 1.5s\n",
      "*0.154400 : 1 passes : dbow+dmm_inferred 0.0s 6.4s\n",
      "*0.199200 : 1 passes : dbow+dmc 0.0s 1.9s\n",
      "*0.194000 : 1 passes : dbow+dmc_inferred 0.0s 11.3s\n",
      "completed pass 1 at alpha 0.025000\n",
      "*0.240800 : 2 passes : Doc2Vec(dm/c,d100,hs,w5,s0.001,t8) 45.6s 0.5s\n",
      "*0.140560 : 2 passes : Doc2Vec(dbow,d100,hs,s0.001,t8) 13.6s 0.5s\n",
      "*0.214200 : 2 passes : Doc2Vec(dm/m,d100,hs,w10,s0.001,t8) 20.1s 0.5s\n",
      "*0.138240 : 2 passes : dbow+dmm 0.0s 1.4s\n",
      "*0.140120 : 2 passes : dbow+dmc 0.0s 1.4s\n",
      "completed pass 2 at alpha 0.023800\n",
      "*0.220080 : 3 passes : Doc2Vec(dm/c,d100,hs,w5,s0.001,t8) 42.9s 0.5s\n",
      "*0.127200 : 3 passes : Doc2Vec(dbow,d100,hs,s0.001,t8) 13.5s 0.5s\n",
      "*0.198320 : 3 passes : Doc2Vec(dm/m,d100,hs,w10,s0.001,t8) 19.8s 0.5s\n",
      "*0.125560 : 3 passes : dbow+dmm 0.0s 1.5s\n",
      "*0.125760 : 3 passes : dbow+dmc 0.0s 1.5s\n",
      "completed pass 3 at alpha 0.022600\n",
      "*0.207240 : 4 passes : Doc2Vec(dm/c,d100,hs,w5,s0.001,t8) 42.7s 0.6s\n",
      "*0.121360 : 4 passes : Doc2Vec(dbow,d100,hs,s0.001,t8) 13.8s 0.5s\n",
      "*0.192360 : 4 passes : Doc2Vec(dm/m,d100,hs,w10,s0.001,t8) 20.1s 0.5s\n",
      "*0.120400 : 4 passes : dbow+dmm 0.0s 1.5s\n",
      "*0.122200 : 4 passes : dbow+dmc 0.0s 1.4s\n",
      "completed pass 4 at alpha 0.021400\n",
      "*0.199400 : 5 passes : Doc2Vec(dm/c,d100,hs,w5,s0.001,t8) 43.1s 0.5s\n",
      "*0.206000 : 5 passes : Doc2Vec(dm/c,d100,hs,w5,s0.001,t8)_inferred 43.1s 8.8s\n",
      "*0.119480 : 5 passes : Doc2Vec(dbow,d100,hs,s0.001,t8) 14.7s 0.6s\n",
      "*0.125200 : 5 passes : Doc2Vec(dbow,d100,hs,s0.001,t8)_inferred 14.7s 2.4s\n",
      "*0.188320 : 5 passes : Doc2Vec(dm/m,d100,hs,w10,s0.001,t8) 20.7s 0.5s\n",
      "*0.187600 : 5 passes : Doc2Vec(dm/m,d100,hs,w10,s0.001,t8)_inferred 20.7s 3.3s\n",
      "*0.118600 : 5 passes : dbow+dmm 0.0s 1.4s\n",
      "*0.125200 : 5 passes : dbow+dmm_inferred 0.0s 6.2s\n",
      "*0.119000 : 5 passes : dbow+dmc 0.0s 1.6s\n",
      "*0.135600 : 5 passes : dbow+dmc_inferred 0.0s 11.1s\n",
      "completed pass 5 at alpha 0.020200\n",
      "*0.194880 : 6 passes : Doc2Vec(dm/c,d100,hs,w5,s0.001,t8) 43.8s 0.5s\n",
      "*0.116440 : 6 passes : Doc2Vec(dbow,d100,hs,s0.001,t8) 14.5s 0.6s\n",
      "*0.183080 : 6 passes : Doc2Vec(dm/m,d100,hs,w10,s0.001,t8) 21.0s 0.5s\n",
      "*0.116080 : 6 passes : dbow+dmm 0.0s 1.8s\n",
      "*0.117000 : 6 passes : dbow+dmc 0.0s 1.4s\n",
      "completed pass 6 at alpha 0.019000\n",
      "*0.190680 : 7 passes : Doc2Vec(dm/c,d100,hs,w5,s0.001,t8) 43.9s 0.5s\n",
      "*0.114960 : 7 passes : Doc2Vec(dbow,d100,hs,s0.001,t8) 14.0s 0.5s\n",
      "*0.180600 : 7 passes : Doc2Vec(dm/m,d100,hs,w10,s0.001,t8) 21.1s 0.5s\n",
      "*0.115720 : 7 passes : dbow+dmm 0.0s 1.5s\n",
      "*0.115600 : 7 passes : dbow+dmc 0.0s 1.9s\n",
      "completed pass 7 at alpha 0.017800\n",
      "*0.185160 : 8 passes : Doc2Vec(dm/c,d100,hs,w5,s0.001,t8) 49.5s 0.6s\n",
      " 0.115480 : 8 passes : Doc2Vec(dbow,d100,hs,s0.001,t8) 15.7s 0.6s\n",
      "*0.178640 : 8 passes : Doc2Vec(dm/m,d100,hs,w10,s0.001,t8) 22.4s 0.6s\n",
      "*0.115600 : 8 passes : dbow+dmm 0.0s 1.7s\n",
      "*0.114160 : 8 passes : dbow+dmc 0.0s 1.8s\n",
      "completed pass 8 at alpha 0.016600\n",
      "*0.184760 : 9 passes : Doc2Vec(dm/c,d100,hs,w5,s0.001,t8) 50.4s 0.5s\n",
      "*0.114880 : 9 passes : Doc2Vec(dbow,d100,hs,s0.001,t8) 15.9s 0.6s\n",
      "*0.176200 : 9 passes : Doc2Vec(dm/m,d100,hs,w10,s0.001,t8) 22.5s 0.5s\n",
      "*0.114320 : 9 passes : dbow+dmm 0.0s 1.8s\n",
      "*0.114160 : 9 passes : dbow+dmc 0.0s 1.9s\n",
      "completed pass 9 at alpha 0.015400\n",
      "*0.184560 : 10 passes : Doc2Vec(dm/c,d100,hs,w5,s0.001,t8) 48.6s 0.6s\n",
      "*0.185600 : 10 passes : Doc2Vec(dm/c,d100,hs,w5,s0.001,t8)_inferred 48.6s 8.4s\n",
      "*0.114680 : 10 passes : Doc2Vec(dbow,d100,hs,s0.001,t8) 15.5s 0.5s\n",
      "*0.117200 : 10 passes : Doc2Vec(dbow,d100,hs,s0.001,t8)_inferred 15.5s 2.4s\n",
      "*0.174360 : 10 passes : Doc2Vec(dm/m,d100,hs,w10,s0.001,t8) 20.7s 0.5s\n",
      " 0.199200 : 10 passes : Doc2Vec(dm/m,d100,hs,w10,s0.001,t8)_inferred 20.7s 3.5s\n",
      " 0.114720 : 10 passes : dbow+dmm 0.0s 1.7s\n",
      "*0.124400 : 10 passes : dbow+dmm_inferred 0.0s 6.7s\n",
      " 0.114680 : 10 passes : dbow+dmc 0.0s 1.7s\n",
      "*0.132000 : 10 passes : dbow+dmc_inferred 0.0s 12.4s\n",
      "completed pass 10 at alpha 0.014200\n",
      "*0.184480 : 11 passes : Doc2Vec(dm/c,d100,hs,w5,s0.001,t8) 49.0s 0.5s\n",
      "*0.114040 : 11 passes : Doc2Vec(dbow,d100,hs,s0.001,t8) 15.5s 0.6s\n",
      "*0.174120 : 11 passes : Doc2Vec(dm/m,d100,hs,w10,s0.001,t8) 22.4s 0.5s\n",
      "*0.113880 : 11 passes : dbow+dmm 0.0s 1.8s\n",
      " 0.114560 : 11 passes : dbow+dmc 0.0s 1.6s\n",
      "completed pass 11 at alpha 0.013000\n",
      " 0.186440 : 12 passes : Doc2Vec(dm/c,d100,hs,w5,s0.001,t8) 50.1s 0.5s\n",
      "*0.113520 : 12 passes : Doc2Vec(dbow,d100,hs,s0.001,t8) 15.8s 0.6s\n",
      "*0.173840 : 12 passes : Doc2Vec(dm/m,d100,hs,w10,s0.001,t8) 22.2s 0.6s\n",
      "*0.113560 : 12 passes : dbow+dmm 0.0s 1.8s\n",
      "*0.113360 : 12 passes : dbow+dmc 0.0s 1.7s\n",
      "completed pass 12 at alpha 0.011800\n",
      " 0.185000 : 13 passes : Doc2Vec(dm/c,d100,hs,w5,s0.001,t8) 45.5s 0.5s\n",
      "*0.113240 : 13 passes : Doc2Vec(dbow,d100,hs,s0.001,t8) 13.8s 0.5s\n",
      "*0.173440 : 13 passes : Doc2Vec(dm/m,d100,hs,w10,s0.001,t8) 20.0s 0.5s\n",
      " 0.114080 : 13 passes : dbow+dmm 0.0s 1.5s\n",
      " 0.114920 : 13 passes : dbow+dmc 0.0s 1.5s\n",
      "completed pass 13 at alpha 0.010600\n",
      " 0.184680 : 14 passes : Doc2Vec(dm/c,d100,hs,w5,s0.001,t8) 44.5s 0.6s\n",
      "*0.113040 : 14 passes : Doc2Vec(dbow,d100,hs,s0.001,t8) 15.3s 0.6s\n",
      "*0.172160 : 14 passes : Doc2Vec(dm/m,d100,hs,w10,s0.001,t8) 22.4s 0.5s\n",
      " 0.114280 : 14 passes : dbow+dmm 0.0s 1.7s\n",
      " 0.114240 : 14 passes : dbow+dmc 0.0s 2.3s\n",
      "completed pass 14 at alpha 0.009400\n",
      " 0.187080 : 15 passes : Doc2Vec(dm/c,d100,hs,w5,s0.001,t8) 50.1s 0.6s\n",
      " 0.192800 : 15 passes : Doc2Vec(dm/c,d100,hs,w5,s0.001,t8)_inferred 50.1s 8.5s\n",
      " 0.113400 : 15 passes : Doc2Vec(dbow,d100,hs,s0.001,t8) 14.2s 0.6s\n",
      " 0.120400 : 15 passes : Doc2Vec(dbow,d100,hs,s0.001,t8)_inferred 14.2s 2.4s\n",
      "*0.171760 : 15 passes : Doc2Vec(dm/m,d100,hs,w10,s0.001,t8) 20.1s 0.5s\n",
      "*0.176800 : 15 passes : Doc2Vec(dm/m,d100,hs,w10,s0.001,t8)_inferred 20.1s 3.3s\n",
      " 0.115280 : 15 passes : dbow+dmm 0.0s 1.5s\n",
      "*0.119200 : 15 passes : dbow+dmm_inferred 0.0s 6.3s\n",
      " 0.114080 : 15 passes : dbow+dmc 0.0s 1.4s\n",
      "*0.120400 : 15 passes : dbow+dmc_inferred 0.0s 10.8s\n",
      "completed pass 15 at alpha 0.008200\n",
      " 0.187600 : 16 passes : Doc2Vec(dm/c,d100,hs,w5,s0.001,t8) 44.1s 0.5s\n",
      " 0.113120 : 16 passes : Doc2Vec(dbow,d100,hs,s0.001,t8) 15.5s 0.6s\n",
      "*0.170640 : 16 passes : Doc2Vec(dm/m,d100,hs,w10,s0.001,t8) 20.4s 0.5s\n",
      " 0.115120 : 16 passes : dbow+dmm 0.0s 1.5s\n",
      " 0.114880 : 16 passes : dbow+dmc 0.0s 1.4s\n",
      "completed pass 16 at alpha 0.007000\n",
      " 0.186600 : 17 passes : Doc2Vec(dm/c,d100,hs,w5,s0.001,t8) 43.4s 0.6s\n",
      " 0.113720 : 17 passes : Doc2Vec(dbow,d100,hs,s0.001,t8) 14.4s 0.5s\n",
      "*0.170280 : 17 passes : Doc2Vec(dm/m,d100,hs,w10,s0.001,t8) 19.8s 0.9s\n",
      " 0.114600 : 17 passes : dbow+dmm 0.0s 1.4s\n",
      " 0.115160 : 17 passes : dbow+dmc 0.0s 1.5s\n",
      "completed pass 17 at alpha 0.005800\n",
      " 0.187400 : 18 passes : Doc2Vec(dm/c,d100,hs,w5,s0.001,t8) 47.7s 0.5s\n",
      " 0.113760 : 18 passes : Doc2Vec(dbow,d100,hs,s0.001,t8) 15.4s 0.6s\n",
      "*0.170200 : 18 passes : Doc2Vec(dm/m,d100,hs,w10,s0.001,t8) 22.3s 0.6s\n",
      " 0.114760 : 18 passes : dbow+dmm 0.0s 1.8s\n",
      " 0.114800 : 18 passes : dbow+dmc 0.0s 1.7s\n",
      "completed pass 18 at alpha 0.004600\n",
      " 0.187640 : 19 passes : Doc2Vec(dm/c,d100,hs,w5,s0.001,t8) 48.7s 0.5s\n",
      " 0.113960 : 19 passes : Doc2Vec(dbow,d100,hs,s0.001,t8) 15.4s 0.6s\n",
      "*0.169680 : 19 passes : Doc2Vec(dm/m,d100,hs,w10,s0.001,t8) 22.0s 0.5s\n",
      " 0.114800 : 19 passes : dbow+dmm 0.0s 1.6s\n",
      " 0.115320 : 19 passes : dbow+dmc 0.0s 1.6s\n",
      "completed pass 19 at alpha 0.003400\n",
      " 0.187920 : 20 passes : Doc2Vec(dm/c,d100,hs,w5,s0.001,t8) 46.7s 0.6s\n",
      " 0.204800 : 20 passes : Doc2Vec(dm/c,d100,hs,w5,s0.001,t8)_inferred 46.7s 8.6s\n",
      " 0.114520 : 20 passes : Doc2Vec(dbow,d100,hs,s0.001,t8) 15.7s 0.6s\n",
      " 0.128800 : 20 passes : Doc2Vec(dbow,d100,hs,s0.001,t8)_inferred 15.7s 2.6s\n",
      " 0.169920 : 20 passes : Doc2Vec(dm/m,d100,hs,w10,s0.001,t8) 22.5s 0.5s\n",
      "*0.161200 : 20 passes : Doc2Vec(dm/m,d100,hs,w10,s0.001,t8)_inferred 22.5s 4.2s\n",
      " 0.115080 : 20 passes : dbow+dmm 0.0s 1.7s\n",
      " 0.120400 : 20 passes : dbow+dmm_inferred 0.0s 6.2s\n",
      " 0.115520 : 20 passes : dbow+dmc 0.0s 1.5s\n",
      " 0.123200 : 20 passes : dbow+dmc_inferred 0.0s 10.9s\n",
      "completed pass 20 at alpha 0.002200\n",
      "END 2017-04-01 23:06:01.311288\n"
     ]
    }
   ],
   "source": [
    "from random import shuffle\n",
    "import datetime\n",
    "\n",
    "alpha, min_alpha, passes = (0.025, 0.001, 20)\n",
    "alpha_delta = (alpha - min_alpha) / passes\n",
    "\n",
    "print(\"START %s\" % datetime.datetime.now())\n",
    "\n",
    "for epoch in range(passes):\n",
    "    shuffle(doc_list)  # shuffling gets best results\n",
    "    \n",
    "    for name, train_model in models_by_name.items():\n",
    "        # train\n",
    "        duration = 'na'\n",
    "        train_model.alpha, train_model.min_alpha = alpha, alpha\n",
    "        with elapsed_timer() as elapsed:\n",
    "            train_model.train(doc_list)\n",
    "            duration = '%.1f' % elapsed()\n",
    "            \n",
    "        # evaluate\n",
    "        eval_duration = ''\n",
    "        with elapsed_timer() as eval_elapsed:\n",
    "            err, err_count, test_count, predictor = error_rate_for_model(train_model, train_docs, test_docs)\n",
    "        eval_duration = '%.1f' % eval_elapsed()\n",
    "        best_indicator = ' '\n",
    "        if err <= best_error[name]:\n",
    "            best_error[name] = err\n",
    "            best_indicator = '*' \n",
    "        print(\"%s%f : %i passes : %s %ss %ss\" % (best_indicator, err, epoch + 1, name, duration, eval_duration))\n",
    "\n",
    "        if ((epoch + 1) % 5) == 0 or epoch == 0:\n",
    "            eval_duration = ''\n",
    "            with elapsed_timer() as eval_elapsed:\n",
    "                infer_err, err_count, test_count, predictor = error_rate_for_model(train_model, train_docs, test_docs, infer=True)\n",
    "            eval_duration = '%.1f' % eval_elapsed()\n",
    "            best_indicator = ' '\n",
    "            if infer_err < best_error[name + '_inferred']:\n",
    "                best_error[name + '_inferred'] = infer_err\n",
    "                best_indicator = '*'\n",
    "            print(\"%s%f : %i passes : %s %ss %ss\" % (best_indicator, infer_err, epoch + 1, name + '_inferred', duration, eval_duration))\n",
    "\n",
    "    print('completed pass %i at alpha %f' % (epoch + 1, alpha))\n",
    "    alpha -= alpha_delta\n",
    "    \n",
    "print(\"END %s\" % str(datetime.datetime.now()))"
   ]
  },
  {
   "cell_type": "markdown",
   "metadata": {
    "deletable": true,
    "editable": true
   },
   "source": [
    "## Achieved Sentiment-Prediction Accuracy"
   ]
  },
  {
   "cell_type": "code",
   "execution_count": 8,
   "metadata": {
    "collapsed": false,
    "deletable": true,
    "editable": true
   },
   "outputs": [
    {
     "name": "stdout",
     "output_type": "stream",
     "text": [
      "0.113040 Doc2Vec(dbow,d100,hs,s0.001,t8)\n",
      "0.113360 dbow+dmc\n",
      "0.113560 dbow+dmm\n",
      "0.117200 Doc2Vec(dbow,d100,hs,s0.001,t8)_inferred\n",
      "0.119200 dbow+dmm_inferred\n",
      "0.120400 dbow+dmc_inferred\n",
      "0.161200 Doc2Vec(dm/m,d100,hs,w10,s0.001,t8)_inferred\n",
      "0.169680 Doc2Vec(dm/m,d100,hs,w10,s0.001,t8)\n",
      "0.184480 Doc2Vec(dm/c,d100,hs,w5,s0.001,t8)\n",
      "0.185600 Doc2Vec(dm/c,d100,hs,w5,s0.001,t8)_inferred\n"
     ]
    }
   ],
   "source": [
    "# print best error rates achieved\n",
    "for rate, name in sorted((rate, name) for name, rate in best_error.items()):\n",
    "    print(\"%f %s\" % (rate, name))"
   ]
  },
  {
   "cell_type": "markdown",
   "metadata": {
    "deletable": true,
    "editable": true
   },
   "source": [
    "In my testing, unlike the paper's report, DBOW performs best. Concatenating vectors from different models only offers a small predictive improvement. The best results I've seen are still just under 10% error rate, still a ways from the paper's 7.42%.\n"
   ]
  },
  {
   "cell_type": "markdown",
   "metadata": {
    "deletable": true,
    "editable": true
   },
   "source": [
    "## Examining Results"
   ]
  },
  {
   "cell_type": "markdown",
   "metadata": {
    "deletable": true,
    "editable": true
   },
   "source": [
    "### Are inferred vectors close to the precalculated ones?"
   ]
  },
  {
   "cell_type": "code",
   "execution_count": 9,
   "metadata": {
    "collapsed": false,
    "deletable": true,
    "editable": true
   },
   "outputs": [
    {
     "name": "stdout",
     "output_type": "stream",
     "text": [
      "for doc 87090...\n",
      "Doc2Vec(dm/c,d100,hs,w5,s0.001,t8):\n",
      " [(87090, 0.8876708745956421), (86285, 0.39027416706085205), (20844, 0.38198322057724)]\n",
      "Doc2Vec(dbow,d100,hs,s0.001,t8):\n",
      " [(87090, 0.9131187796592712), (15611, 0.4949572682380676), (92216, 0.4888874888420105)]\n",
      "Doc2Vec(dm/m,d100,hs,w10,s0.001,t8):\n",
      " [(87090, 0.8557254076004028), (5167, 0.46013641357421875), (98151, 0.45038729906082153)]\n"
     ]
    }
   ],
   "source": [
    "doc_id = np.random.randint(simple_models[0].docvecs.count)  # pick random doc; re-run cell for more examples\n",
    "print('for doc %d...' % doc_id)\n",
    "for model in simple_models:\n",
    "    inferred_docvec = model.infer_vector(alldocs[doc_id].words)\n",
    "    print('%s:\\n %s' % (model, model.docvecs.most_similar([inferred_docvec], topn=3)))"
   ]
  },
  {
   "cell_type": "markdown",
   "metadata": {
    "deletable": true,
    "editable": true
   },
   "source": [
    "(Yes, here the stored vector from 20 epochs of training is usually one of the closest to a freshly-inferred vector for the same words. Note the defaults for inference are very abbreviated – just 3 steps starting at a high alpha – and likely need tuning for other applications.)"
   ]
  },
  {
   "cell_type": "markdown",
   "metadata": {
    "deletable": true,
    "editable": true
   },
   "source": [
    "### Do close documents seem more related than distant ones?"
   ]
  },
  {
   "cell_type": "code",
   "execution_count": 10,
   "metadata": {
    "collapsed": false,
    "deletable": true,
    "editable": true
   },
   "outputs": [
    {
     "name": "stdout",
     "output_type": "stream",
     "text": [
      "TARGET (35617): «\" the piano teacher \" is all about huppert's character ; a middle-aged classical piano instructor with a stoic facade behind which lurks a powerfully compelling aberrant personality . unsatisfying as a story but intriguing as a character study , the film follows the huppert character through the term of her anguished relationship with a pupil delivering superb performances in the process . not for everyone , \" the piano teacher \" will play best with those into foreign films and character-driven dramas dealing with dark issues . ( a- )»\n",
      "\n",
      "SIMILAR/DISSIMILAR DOCS PER MODEL Doc2Vec(dm/m,d100,hs,w10,s0.001,t8):\n",
      "\n",
      "MOST (35003, 0.47433245182037354): «bill paxton has taken the true story of the 1913 us golf open and made a film that is about much more than an extra-ordinary game of golf . the film also deals directly with the class tensions of the early twentieth century and touches upon the profound anti-catholic prejudices of both the british and american establishments . but at heart the film is about that perennial favourite of triumph against the odds . the acting is exemplary throughout . stephen dillane is excellent as usual , but the revelation of the movie is shia laboeuf who delivers a disciplined , dignified and highly sympathetic performance as a working class franco-irish kid fighting his way through the prejudices of the new england wasp establishment . for those who are only familiar with his slap-stick performances in \" even stevens \" this demonstration of his maturity is a delightful surprise . and josh flitter as the ten year old caddy threatens to steal every scene in which he appears . a old fashioned movie in the best sense of the word : fine acting , clear directing and a great story that grips to the end - the final scene an affectionate nod to casablanca is just one of the many pleasures that fill a great movie .»\n",
      "\n",
      "MEDIAN (19169, 0.042746372520923615): «i saw this film in my cinema class . i am glad that i did not pay to see it . i came into it with an open mind , and was even a little excited . i really enjoy ed norton and evan rachel wood , and the rest of the cast was interesting . i just never connected with this movie . the acting was great , the cinematography was interesting , but the storyline , or rather , lack thereof , was a problem . there was no central , connecting theme to the movie . was it a romance between norton and wood ? well , no , not really . was it a western ? kind of , but no . i'm all for twists in movies , i recently saw \" brick \" and loved it , but the place that this movie went was just too out there . it was so weird , and if i weren't required to have sat through the whole film , i would have walked out . the writing wasn't terrible , but it was just all over the place . by the time this movie ended , i was just left terribly confused and wishing that it had ended sooner . there was just something about this film that didn't resonate , i understand more offbeat films like \" fight club \" , but i just did not care about the characters at all .»\n",
      "\n",
      "LEAST (91806, -0.4195513129234314): «i was expecting so much from this film and i have to say , along with scarface and darkness , it's the worst film i've ever seen . there is no plot , horrible acting , and pretty much , it's a porno . but , david chronenberh really does a outstanding job directing this . it's very gory , a lot of nudity , don't waste your time . it should have been called \" a history of bad movies . \" or something . it look like this movie really took time to make and develop , which is sad , because the outcome is horrible . i was yelling at my friend telling him this is supposed to be a great movie , so he went along and watched it . the whole movie , were sitting there wondering how this is actually a produced film . i mean , who would pay for this piece of garbage . 1/10»\n",
      "\n"
     ]
    }
   ],
   "source": [
    "import random\n",
    "\n",
    "doc_id = np.random.randint(simple_models[0].docvecs.count)  # pick random doc, re-run cell for more examples\n",
    "model = random.choice(simple_models)  # and a random model\n",
    "sims = model.docvecs.most_similar(doc_id, topn=model.docvecs.count)  # get *all* similar documents\n",
    "print(u'TARGET (%d): «%s»\\n' % (doc_id, ' '.join(alldocs[doc_id].words)))\n",
    "print(u'SIMILAR/DISSIMILAR DOCS PER MODEL %s:\\n' % model)\n",
    "for label, index in [('MOST', 0), ('MEDIAN', len(sims)//2), ('LEAST', len(sims) - 1)]:\n",
    "    print(u'%s %s: «%s»\\n' % (label, sims[index], ' '.join(alldocs[sims[index][0]].words)))"
   ]
  },
  {
   "cell_type": "markdown",
   "metadata": {
    "deletable": true,
    "editable": true
   },
   "source": [
    "(Somewhat, in terms of reviewer tone, movie genre, etc... the MOST cosine-similar docs usually seem more like the TARGET than the MEDIAN or LEAST.)"
   ]
  },
  {
   "cell_type": "markdown",
   "metadata": {
    "deletable": true,
    "editable": true
   },
   "source": [
    "### Do the word vectors show useful similarities?"
   ]
  },
  {
   "cell_type": "code",
   "execution_count": 11,
   "metadata": {
    "collapsed": true,
    "deletable": true,
    "editable": true
   },
   "outputs": [],
   "source": [
    "word_models = simple_models[:]"
   ]
  },
  {
   "cell_type": "code",
   "execution_count": 12,
   "metadata": {
    "collapsed": false,
    "deletable": true,
    "editable": true,
    "scrolled": true
   },
   "outputs": [
    {
     "name": "stdout",
     "output_type": "stream",
     "text": [
      "most similar words for 'comedy/drama' (38 occurences)\n"
     ]
    },
    {
     "data": {
      "text/html": [
       "<table><tr><th>Doc2Vec(dm/c,d100,hs,w5,s0.001,t8)</th><th>Doc2Vec(dbow,d100,hs,s0.001,t8)</th><th>Doc2Vec(dm/m,d100,hs,w10,s0.001,t8)</th></tr><tr><td>[('comedy', 0.6301430463790894),<br>\n",
       "('thriller', 0.5585127472877502),<br>\n",
       "('drama/action', 0.5287737846374512),<br>\n",
       "('drama', 0.5259318351745605),<br>\n",
       "('_comedy_', 0.5247748494148254),<br>\n",
       "('fable', 0.514511227607727),<br>\n",
       "('drama/comedy', 0.5113805532455444),<br>\n",
       "('biopic', 0.5079891681671143),<br>\n",
       "('movie/christmas', 0.5042387843132019),<br>\n",
       "('documentary', 0.49794819951057434),<br>\n",
       "('noir', 0.494956374168396),<br>\n",
       "('yarn', 0.49455294013023376),<br>\n",
       "('sitcom', 0.4937760829925537),<br>\n",
       "('adventure', 0.4904794991016388),<br>\n",
       "('farce', 0.48465201258659363),<br>\n",
       "('b-style', 0.4674649238586426),<br>\n",
       "('entertainment', 0.4574325382709503),<br>\n",
       "('epic', 0.45528167486190796),<br>\n",
       "('spookfest', 0.4528314471244812),<br>\n",
       "('giallo', 0.4482772946357727)]</td><td>[('cass', 0.4107584059238434),<br>\n",
       "('agile', 0.41023164987564087),<br>\n",
       "('flat-foot', 0.40284883975982666),<br>\n",
       "(\"murdoch's\", 0.39888352155685425),<br>\n",
       "('morally-oriented', 0.39321887493133545),<br>\n",
       "('1967-68', 0.3930214047431946),<br>\n",
       "('amputated', 0.39226916432380676),<br>\n",
       "('chronological', 0.38991647958755493),<br>\n",
       "('drunk/stoned', 0.3893786072731018),<br>\n",
       "('h2', 0.38912999629974365),<br>\n",
       "('war-painted', 0.3854093849658966),<br>\n",
       "('less-than-hilarious', 0.3848978877067566),<br>\n",
       "(\"wenders'earlier\", 0.38253527879714966),<br>\n",
       "(\"am'\", 0.38116079568862915),<br>\n",
       "('ramar', 0.3752664029598236),<br>\n",
       "('venezuelans', 0.3747956156730652),<br>\n",
       "(\"'humour'\", 0.3734762668609619),<br>\n",
       "('majorette', 0.3710702657699585),<br>\n",
       "('boarded-up', 0.3703150153160095),<br>\n",
       "('timbers', 0.3680074214935303)]</td><td>[('comedy', 0.6160299777984619),<br>\n",
       "('comedy-drama', 0.5254044532775879),<br>\n",
       "('farce', 0.5197199583053589),<br>\n",
       "('romp', 0.5017213821411133),<br>\n",
       "('thriller', 0.50005042552948),<br>\n",
       "('sex-fest', 0.48043525218963623),<br>\n",
       "('drama', 0.4754725992679596),<br>\n",
       "('melodrama', 0.4601193070411682),<br>\n",
       "('gem', 0.4469992220401764),<br>\n",
       "('romance', 0.4428330659866333),<br>\n",
       "('biopic', 0.43566542863845825),<br>\n",
       "('horror/mystery', 0.4321140944957733),<br>\n",
       "('heifitz', 0.431861937046051),<br>\n",
       "('update/honor', 0.4315478801727295),<br>\n",
       "('1916\\x96this', 0.42391324043273926),<br>\n",
       "('grant-dunne', 0.42359626293182373),<br>\n",
       "('action-drama', 0.42338383197784424),<br>\n",
       "('slap-stick', 0.42106783390045166),<br>\n",
       "('danger-ridden', 0.4184662699699402),<br>\n",
       "('two-hander', 0.41649720072746277)]</td></tr></table>"
      ],
      "text/plain": [
       "<IPython.core.display.HTML object>"
      ]
     },
     "execution_count": 13,
     "metadata": {},
     "output_type": "execute_result"
    }
   ],
   "source": [
    "import random\n",
    "from IPython.display import HTML\n",
    "# pick a random word with a suitable number of occurences\n",
    "while True:\n",
    "    word = random.choice(word_models[0].wv.index2word)\n",
    "    if word_models[0].wv.vocab[word].count > 10:\n",
    "        break\n",
    "# or uncomment below line, to just pick a word from the relevant domain:\n",
    "word = 'comedy/drama'\n",
    "similars_per_model = [str(model.most_similar(word, topn=20)).replace('), ','),<br>\\n') for model in word_models]\n",
    "similar_table = (\"<table><tr><th>\" +\n",
    "    \"</th><th>\".join([str(model) for model in word_models]) + \n",
    "    \"</th></tr><tr><td>\" +\n",
    "    \"</td><td>\".join(similars_per_model) +\n",
    "    \"</td></tr></table>\")\n",
    "print(\"most similar words for '%s' (%d occurences)\" % (word, simple_models[0].wv.vocab[word].count))\n",
    "HTML(similar_table)"
   ]
  },
  {
   "cell_type": "markdown",
   "metadata": {
    "deletable": true,
    "editable": true
   },
   "source": [
    "Do the DBOW words look meaningless? That's because the gensim DBOW model doesn't train word vectors – they remain at their random initialized values – unless you ask with the `dbow_words=1` initialization parameter. Concurrent word-training slows DBOW mode significantly, and offers little improvement (and sometimes a little worsening) of the error rate on this IMDB sentiment-prediction task. \n",
    "\n",
    "Words from DM models tend to show meaningfully similar words when there are many examples in the training data (as with 'plot' or 'actor'). (All DM modes inherently involve word vector training concurrent with doc vector training.)"
   ]
  },
  {
   "cell_type": "markdown",
   "metadata": {
    "deletable": true,
    "editable": true
   },
   "source": [
    "### Are the word vectors from this dataset any good at analogies?"
   ]
  },
  {
   "cell_type": "code",
   "execution_count": null,
   "metadata": {
    "collapsed": true,
    "deletable": true,
    "editable": true
   },
   "outputs": [],
   "source": [
    "# assuming something like\n",
    "# https://word2vec.googlecode.com/svn/trunk/questions-words.txt \n",
    "# is in local directory\n",
    "# note: this takes many minutes\n",
    "for model in word_models:\n",
    "    sections = model.accuracy('questions-words.txt')\n",
    "    correct, incorrect = len(sections[-1]['correct']), len(sections[-1]['incorrect'])\n",
    "    print('%s: %0.2f%% correct (%d of %d)' % (model, float(correct*100)/(correct+incorrect), correct, correct+incorrect))"
   ]
  },
  {
   "cell_type": "markdown",
   "metadata": {
    "deletable": true,
    "editable": true
   },
   "source": [
    "Even though this is a tiny, domain-specific dataset, it shows some meager capability on the general word analogies – at least for the DM/concat and DM/mean models which actually train word vectors. (The untrained random-initialized words of the DBOW model of course fail miserably.)"
   ]
  },
  {
   "cell_type": "markdown",
   "metadata": {
    "deletable": true,
    "editable": true
   },
   "source": [
    "## Slop"
   ]
  },
  {
   "cell_type": "code",
   "execution_count": null,
   "metadata": {
    "collapsed": true,
    "deletable": true,
    "editable": true
   },
   "outputs": [],
   "source": [
    "This cell left intentionally erroneous."
   ]
  },
  {
   "cell_type": "markdown",
   "metadata": {
    "deletable": true,
    "editable": true
   },
   "source": [
    "To mix the Google dataset (if locally available) into the word tests..."
   ]
  },
  {
   "cell_type": "code",
   "execution_count": null,
   "metadata": {
    "collapsed": true,
    "deletable": true,
    "editable": true
   },
   "outputs": [],
   "source": [
    "from gensim.models import KeyedVectors\n",
    "w2v_g100b = KeyedVectors.load_word2vec_format('GoogleNews-vectors-negative300.bin.gz', binary=True)\n",
    "w2v_g100b.compact_name = 'w2v_g100b'\n",
    "word_models.append(w2v_g100b)"
   ]
  },
  {
   "cell_type": "markdown",
   "metadata": {
    "deletable": true,
    "editable": true
   },
   "source": [
    "To get copious logging output from above steps..."
   ]
  },
  {
   "cell_type": "code",
   "execution_count": null,
   "metadata": {
    "collapsed": true,
    "deletable": true,
    "editable": true
   },
   "outputs": [],
   "source": [
    "import logging\n",
    "logging.basicConfig(format='%(asctime)s : %(levelname)s : %(message)s', level=logging.INFO)\n",
    "rootLogger = logging.getLogger()\n",
    "rootLogger.setLevel(logging.INFO)"
   ]
  },
  {
   "cell_type": "markdown",
   "metadata": {
    "deletable": true,
    "editable": true
   },
   "source": [
    "To auto-reload python code while developing..."
   ]
  },
  {
   "cell_type": "code",
   "execution_count": null,
   "metadata": {
    "collapsed": true,
    "deletable": true,
    "editable": true
   },
   "outputs": [],
   "source": [
    "%load_ext autoreload\n",
    "%autoreload 2"
   ]
  }
 ],
 "metadata": {
  "kernelspec": {
   "display_name": "Python 3",
   "language": "python",
   "name": "python3"
  },
  "language_info": {
   "codemirror_mode": {
    "name": "ipython",
    "version": 3
   },
   "file_extension": ".py",
   "mimetype": "text/x-python",
   "name": "python",
   "nbconvert_exporter": "python",
   "pygments_lexer": "ipython3",
   "version": "3.6.0"
  }
 },
 "nbformat": 4,
 "nbformat_minor": 0
}
